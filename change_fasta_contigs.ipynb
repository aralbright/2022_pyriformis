{
 "cells": [
  {
   "cell_type": "code",
   "execution_count": 63,
   "id": "877e163d",
   "metadata": {},
   "outputs": [],
   "source": [
    "from Bio import SeqIO"
   ]
  },
  {
   "cell_type": "code",
   "execution_count": 66,
   "id": "b045a9b6",
   "metadata": {},
   "outputs": [],
   "source": [
    "original_file = r\"/Volumes/albright_postdoc/pyriformis/stentor_pyriformis.20210302_final.fa\"\n",
    "corrected_file = r\"/Volumes/albright_postdoc/pyriformis/stentor_pyriformis.20210302_final.nameupdate.fa\"\n",
    "\n",
    "with open(original_file) as original, open(corrected_file, 'w') as corrected:\n",
    "    records = SeqIO.parse(original, 'fasta')    \n",
    "    \n",
    "    i = 0 \n",
    "\n",
    "    for record in records:\n",
    "                  \n",
    "        i += 1\n",
    "        record.id = ('StePyr_contig_' + str(i))\n",
    "        record.name = record.id\n",
    "        record.description = record.id\n",
    "    \n",
    "    \n",
    "        SeqIO.write(record, corrected, \"fasta\")"
   ]
  },
  {
   "cell_type": "code",
   "execution_count": null,
   "id": "9a142dce",
   "metadata": {},
   "outputs": [],
   "source": []
  },
  {
   "cell_type": "code",
   "execution_count": 58,
   "id": "6b04e0b9",
   "metadata": {},
   "outputs": [],
   "source": []
  },
  {
   "cell_type": "code",
   "execution_count": 40,
   "id": "8b349eca",
   "metadata": {},
   "outputs": [
    {
     "data": {
      "text/plain": [
       "0"
      ]
     },
     "execution_count": 40,
     "metadata": {},
     "output_type": "execute_result"
    }
   ],
   "source": []
  },
  {
   "cell_type": "code",
   "execution_count": 32,
   "id": "3336b2d5",
   "metadata": {},
   "outputs": [
    {
     "data": {
      "text/plain": [
       "Bio.SeqIO.FastaIO.FastaIterator"
      ]
     },
     "execution_count": 32,
     "metadata": {},
     "output_type": "execute_result"
    }
   ],
   "source": []
  },
  {
   "cell_type": "code",
   "execution_count": null,
   "id": "f6eb6599",
   "metadata": {},
   "outputs": [],
   "source": []
  }
 ],
 "metadata": {
  "kernelspec": {
   "display_name": "Python 3",
   "language": "python",
   "name": "python3"
  },
  "language_info": {
   "codemirror_mode": {
    "name": "ipython",
    "version": 3
   },
   "file_extension": ".py",
   "mimetype": "text/x-python",
   "name": "python",
   "nbconvert_exporter": "python",
   "pygments_lexer": "ipython3",
   "version": "3.6.15"
  }
 },
 "nbformat": 4,
 "nbformat_minor": 5
}
