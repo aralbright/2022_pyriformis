{
 "cells": [
  {
   "cell_type": "code",
   "execution_count": 63,
   "id": "877e163d",
   "metadata": {},
   "outputs": [],
   "source": [
    "from Bio import SeqIO"
   ]
  },
  {
   "cell_type": "code",
   "execution_count": 66,
   "id": "b045a9b6",
   "metadata": {},
   "outputs": [],
   "source": [
    "original_file = r\"/Volumes/albright_postdoc/pyriformis/stentor_pyriformis.20210302_final.fa\"\n",
    "corrected_file = r\"/Volumes/albright_postdoc/pyriformis/stentor_pyriformis.20210302_final.nameupdate.fa\"\n",
    "\n",
    "with open(original_file) as original, open(corrected_file, 'w') as corrected:\n",
    "    records = SeqIO.parse(original, 'fasta')    \n",
    "    \n",
    "    i = 0 \n",
    "\n",
    "    for record in records:\n",
    "                  \n",
    "        i += 1\n",
    "        record.id = ('StePyr_contig_' + str(i))\n",
    "        record.name = record.id\n",
    "        record.description = record.id\n",
    "    \n",
    "    \n",
    "        SeqIO.write(record, corrected, \"fasta\")"
   ]
  }
 ],
 "metadata": {
  "kernelspec": {
   "display_name": "Python 3",
   "language": "python",
   "name": "python3"
  },
  "language_info": {
   "codemirror_mode": {
    "name": "ipython",
    "version": 3
   },
   "file_extension": ".py",
   "mimetype": "text/x-python",
   "name": "python",
   "nbconvert_exporter": "python",
   "pygments_lexer": "ipython3",
   "version": "3.6.15"
  }
 },
 "nbformat": 4,
 "nbformat_minor": 5
}
